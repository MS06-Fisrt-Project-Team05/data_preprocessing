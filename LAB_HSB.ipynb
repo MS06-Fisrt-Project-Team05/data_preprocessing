{
 "cells": [
  {
   "cell_type": "code",
   "execution_count": null,
   "metadata": {},
   "outputs": [],
   "source": [
    "import os\n",
    "import numpy as np\n",
    "import matplotlib.pyplot as plt\n",
    "from PIL import Image\n",
    "import cv2"
   ]
  },
  {
   "cell_type": "code",
   "execution_count": null,
   "metadata": {},
   "outputs": [],
   "source": [
    "# 📂 입력 및 출력 폴더 경로 설정\n",
    "input_folder = [입력폴더]\n",
    "output_folder = [출력폴더]\n",
    "\n",
    "# 출력 폴더 생성\n",
    "os.makedirs(output_folder, exist_ok=True)\n",
    "print(f\"📂 Output folder created at: {output_folder}\")"
   ]
  },
  {
   "cell_type": "code",
   "execution_count": null,
   "metadata": {},
   "outputs": [],
   "source": [
    "# CLAHE 객체 생성 (L 채널 대비 강화)\n",
    "clahe = cv2.createCLAHE(clipLimit=3.0, tileGridSize=(12, 12))\n",
    "\n",
    "# 입력 폴더의 모든 이미지 처리\n",
    "for filename in os.listdir(input_folder):\n",
    "    if filename.lower().endswith(('.png', '.jpg', '.jpeg', '.bmp')):\n",
    "        image_path = os.path.join(input_folder, filename)\n",
    "        try:\n",
    "            print(f\"📂 Processing: {filename}\")\n",
    "\n",
    "            # 🌈 1. Pillow로 이미지 불러오기 (RGB 모드)\n",
    "            pil_image = Image.open(image_path).convert('RGB')\n",
    "            image_np = np.array(pil_image)\n",
    "\n",
    "            # 🟠 2. LAB 색공간 변환 및 L 채널 대비 강화\n",
    "            lab = cv2.cvtColor(image_np, cv2.COLOR_RGB2LAB)\n",
    "            l, a, b = cv2.split(lab)\n",
    "            l_clahe = clahe.apply(l)  # CLAHE로 명암 대비 강화된 L 채널\n",
    "\n",
    "            # 🟢 3. HSB 색공간 변환 및 H 채널 추출 (염증 강조)\n",
    "            hsb = cv2.cvtColor(image_np, cv2.COLOR_RGB2HSV)\n",
    "            h, s, v = cv2.split(hsb)\n",
    "\n",
    "            # 🟡 4. L 채널과 H 채널 결합\n",
    "            combined = cv2.merge((l_clahe, h, np.zeros_like(h)))  # L + H 결합\n",
    "            combined_bgr = cv2.cvtColor(combined, cv2.COLOR_LAB2BGR)\n",
    "\n",
    "            # 💾 5. 결과 저장 (Pillow 사용)\n",
    "            output_path = os.path.join(output_folder, f\"{filename}_LAB_HSB_Combined.png\")\n",
    "            Image.fromarray(combined_bgr).save(output_path, format='PNG')\n",
    "            print(f\"✅ Combined image saved at: {output_path}\")\n",
    "\n",
    "            # 🖼️ 6. 시각화 (비교)\n",
    "            plt.figure(figsize=(12, 6))\n",
    "            plt.subplot(2, 3, 1); plt.imshow(image_np); plt.title('Original Image'); plt.axis('off')\n",
    "            plt.subplot(2, 3, 2); plt.imshow(l, cmap='gray'); plt.title('LAB - L (Lightness)'); plt.axis('off')\n",
    "            plt.subplot(2, 3, 3); plt.imshow(l_clahe, cmap='gray'); plt.title('LAB - L (CLAHE)'); plt.axis('off')\n",
    "            plt.subplot(2, 3, 4); plt.imshow(h, cmap='gray'); plt.title('HSB - H (Hue)'); plt.axis('off')\n",
    "            plt.subplot(2, 3, 5); plt.imshow(combined); plt.title('Combined (L+H)'); plt.axis('off')\n",
    "            plt.subplot(2, 3, 6); plt.imshow(combined_bgr); plt.title('Combined BGR'); plt.axis('off')\n",
    "\n",
    "            plt.suptitle(f'LAB-HSB Combined Analysis: {filename}', fontsize=16)\n",
    "            plt.show()\n",
    "\n",
    "        except Exception as e:\n",
    "            print(f\"❌ Error processing {filename}: {e}\")\n",
    "\n",
    "print(\"🎉 모든 이미지의 LAB-HSB 결합 분석 및 저장이 완료되었습니다.\")"
   ]
  }
 ],
 "metadata": {
  "kernelspec": {
   "display_name": "Python 3",
   "language": "python",
   "name": "python3"
  },
  "language_info": {
   "codemirror_mode": {
    "name": "ipython",
    "version": 3
   },
   "file_extension": ".py",
   "mimetype": "text/x-python",
   "name": "python",
   "nbconvert_exporter": "python",
   "pygments_lexer": "ipython3",
   "version": "3.13.1"
  }
 },
 "nbformat": 4,
 "nbformat_minor": 2
}
