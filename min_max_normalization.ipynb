{
 "cells": [
  {
   "cell_type": "markdown",
   "metadata": {},
   "source": [
    "# Min-Max Normalization"
   ]
  },
  {
   "cell_type": "code",
   "execution_count": 2,
   "metadata": {},
   "outputs": [
    {
     "name": "stdout",
     "output_type": "stream",
     "text": [
      "Collecting SimpleITK\n",
      "  Downloading SimpleITK-2.4.1-cp311-abi3-win_amd64.whl.metadata (8.0 kB)\n",
      "Downloading SimpleITK-2.4.1-cp311-abi3-win_amd64.whl (18.7 MB)\n",
      "   ---------------------------------------- 0.0/18.7 MB ? eta -:--:--\n",
      "   ---- ----------------------------------- 2.1/18.7 MB 10.5 MB/s eta 0:00:02\n",
      "   --------- ------------------------------ 4.5/18.7 MB 10.9 MB/s eta 0:00:02\n",
      "   -------------- ------------------------- 6.6/18.7 MB 10.5 MB/s eta 0:00:02\n",
      "   ------------------- -------------------- 8.9/18.7 MB 10.6 MB/s eta 0:00:01\n",
      "   ------------------------ --------------- 11.3/18.7 MB 10.7 MB/s eta 0:00:01\n",
      "   ----------------------------- ---------- 13.6/18.7 MB 10.8 MB/s eta 0:00:01\n",
      "   ---------------------------------- ----- 16.0/18.7 MB 10.9 MB/s eta 0:00:01\n",
      "   ---------------------------------------  18.4/18.7 MB 10.9 MB/s eta 0:00:01\n",
      "   ---------------------------------------- 18.7/18.7 MB 10.2 MB/s eta 0:00:00\n",
      "Installing collected packages: SimpleITK\n",
      "Successfully installed SimpleITK-2.4.1\n",
      "Note: you may need to restart the kernel to use updated packages.\n"
     ]
    },
    {
     "name": "stderr",
     "output_type": "stream",
     "text": [
      "\n",
      "[notice] A new release of pip is available: 24.3.1 -> 25.0.1\n",
      "[notice] To update, run: python.exe -m pip install --upgrade pip\n"
     ]
    }
   ],
   "source": [
    "pip install SimpleITK"
   ]
  },
  {
   "cell_type": "code",
   "execution_count": 14,
   "metadata": {},
   "outputs": [],
   "source": [
    "import os\n",
    "import numpy as np\n",
    "import matplotlib.pyplot as plt\n",
    "from PIL import Image"
   ]
  },
  {
   "cell_type": "code",
   "execution_count": null,
   "metadata": {},
   "outputs": [],
   "source": [
    "# 입력 및 출력 폴더 경로 설정\n",
    "input_folder = [입력폴더]  # 원본 이미지 폴더\n",
    "output_folder = [출력폴더]  # 저장 폴더"
   ]
  },
  {
   "cell_type": "code",
   "execution_count": 16,
   "metadata": {},
   "outputs": [
    {
     "name": "stdout",
     "output_type": "stream",
     "text": [
      "✅ 저장 완료: C:\\Users\\rhomb\\OneDrive\\바탕 화면\\A5_미란_궤양_min_max_normalization\\IMG_D_A5_195608.jpg\n",
      "✅ 저장 완료: C:\\Users\\rhomb\\OneDrive\\바탕 화면\\A5_미란_궤양_min_max_normalization\\IMG_D_A5_195612.jpg\n",
      "✅ 저장 완료: C:\\Users\\rhomb\\OneDrive\\바탕 화면\\A5_미란_궤양_min_max_normalization\\IMG_D_A5_195619.jpg\n",
      "✅ 저장 완료: C:\\Users\\rhomb\\OneDrive\\바탕 화면\\A5_미란_궤양_min_max_normalization\\IMG_D_A5_195676.jpg\n",
      "✅ 저장 완료: C:\\Users\\rhomb\\OneDrive\\바탕 화면\\A5_미란_궤양_min_max_normalization\\IMG_D_A5_195678.jpg\n",
      "✅ 저장 완료: C:\\Users\\rhomb\\OneDrive\\바탕 화면\\A5_미란_궤양_min_max_normalization\\IMG_D_A5_195687.jpg\n",
      "✅ 저장 완료: C:\\Users\\rhomb\\OneDrive\\바탕 화면\\A5_미란_궤양_min_max_normalization\\IMG_D_A5_195745.jpg\n",
      "✅ 저장 완료: C:\\Users\\rhomb\\OneDrive\\바탕 화면\\A5_미란_궤양_min_max_normalization\\IMG_D_A5_195746.jpg\n",
      "✅ 저장 완료: C:\\Users\\rhomb\\OneDrive\\바탕 화면\\A5_미란_궤양_min_max_normalization\\IMG_D_A5_195747.jpg\n",
      "✅ 저장 완료: C:\\Users\\rhomb\\OneDrive\\바탕 화면\\A5_미란_궤양_min_max_normalization\\IMG_D_A5_195825.jpg\n",
      "✅ 저장 완료: C:\\Users\\rhomb\\OneDrive\\바탕 화면\\A5_미란_궤양_min_max_normalization\\IMG_D_A5_195827.jpg\n",
      "✅ 저장 완료: C:\\Users\\rhomb\\OneDrive\\바탕 화면\\A5_미란_궤양_min_max_normalization\\IMG_D_A5_195844.jpg\n",
      "✅ 저장 완료: C:\\Users\\rhomb\\OneDrive\\바탕 화면\\A5_미란_궤양_min_max_normalization\\IMG_D_A5_195850.jpg\n",
      "✅ 저장 완료: C:\\Users\\rhomb\\OneDrive\\바탕 화면\\A5_미란_궤양_min_max_normalization\\IMG_D_A5_195978.jpg\n",
      "✅ 저장 완료: C:\\Users\\rhomb\\OneDrive\\바탕 화면\\A5_미란_궤양_min_max_normalization\\IMG_D_A5_195979.jpg\n",
      "✅ 저장 완료: C:\\Users\\rhomb\\OneDrive\\바탕 화면\\A5_미란_궤양_min_max_normalization\\IMG_D_A5_196548.jpg\n",
      "✅ 저장 완료: C:\\Users\\rhomb\\OneDrive\\바탕 화면\\A5_미란_궤양_min_max_normalization\\IMG_D_A5_196550.jpg\n",
      "✅ 저장 완료: C:\\Users\\rhomb\\OneDrive\\바탕 화면\\A5_미란_궤양_min_max_normalization\\IMG_D_A5_196555.jpg\n",
      "✅ 저장 완료: C:\\Users\\rhomb\\OneDrive\\바탕 화면\\A5_미란_궤양_min_max_normalization\\IMG_D_A5_196562.jpg\n",
      "✅ 저장 완료: C:\\Users\\rhomb\\OneDrive\\바탕 화면\\A5_미란_궤양_min_max_normalization\\IMG_D_A5_196584.jpg\n",
      "✅ 저장 완료: C:\\Users\\rhomb\\OneDrive\\바탕 화면\\A5_미란_궤양_min_max_normalization\\IMG_D_A5_196629.jpg\n",
      "✅ 저장 완료: C:\\Users\\rhomb\\OneDrive\\바탕 화면\\A5_미란_궤양_min_max_normalization\\IMG_D_A5_196633.jpg\n",
      "✅ 저장 완료: C:\\Users\\rhomb\\OneDrive\\바탕 화면\\A5_미란_궤양_min_max_normalization\\IMG_D_A5_196634.jpg\n",
      "✅ 저장 완료: C:\\Users\\rhomb\\OneDrive\\바탕 화면\\A5_미란_궤양_min_max_normalization\\IMG_D_A5_196635.jpg\n",
      "✅ 저장 완료: C:\\Users\\rhomb\\OneDrive\\바탕 화면\\A5_미란_궤양_min_max_normalization\\IMG_D_A5_196636.jpg\n",
      "✅ 저장 완료: C:\\Users\\rhomb\\OneDrive\\바탕 화면\\A5_미란_궤양_min_max_normalization\\IMG_D_A5_196658.jpg\n",
      "✅ 저장 완료: C:\\Users\\rhomb\\OneDrive\\바탕 화면\\A5_미란_궤양_min_max_normalization\\IMG_D_A5_196734.jpg\n",
      "✅ 저장 완료: C:\\Users\\rhomb\\OneDrive\\바탕 화면\\A5_미란_궤양_min_max_normalization\\IMG_D_A5_196737.jpg\n",
      "✅ 저장 완료: C:\\Users\\rhomb\\OneDrive\\바탕 화면\\A5_미란_궤양_min_max_normalization\\IMG_D_A5_196740.jpg\n",
      "✅ 저장 완료: C:\\Users\\rhomb\\OneDrive\\바탕 화면\\A5_미란_궤양_min_max_normalization\\IMG_D_A5_196792.jpg\n",
      "✅ 저장 완료: C:\\Users\\rhomb\\OneDrive\\바탕 화면\\A5_미란_궤양_min_max_normalization\\IMG_D_A5_196795.jpg\n",
      "✅ 저장 완료: C:\\Users\\rhomb\\OneDrive\\바탕 화면\\A5_미란_궤양_min_max_normalization\\IMG_D_A5_196797.jpg\n",
      "✅ 저장 완료: C:\\Users\\rhomb\\OneDrive\\바탕 화면\\A5_미란_궤양_min_max_normalization\\IMG_D_A5_196800.jpg\n",
      "✅ 저장 완료: C:\\Users\\rhomb\\OneDrive\\바탕 화면\\A5_미란_궤양_min_max_normalization\\IMG_D_A5_196807.jpg\n",
      "✅ 저장 완료: C:\\Users\\rhomb\\OneDrive\\바탕 화면\\A5_미란_궤양_min_max_normalization\\IMG_D_A5_196820.jpg\n",
      "✅ 저장 완료: C:\\Users\\rhomb\\OneDrive\\바탕 화면\\A5_미란_궤양_min_max_normalization\\IMG_D_A5_196857.jpg\n",
      "✅ 저장 완료: C:\\Users\\rhomb\\OneDrive\\바탕 화면\\A5_미란_궤양_min_max_normalization\\IMG_D_A5_196860.jpg\n",
      "✅ 저장 완료: C:\\Users\\rhomb\\OneDrive\\바탕 화면\\A5_미란_궤양_min_max_normalization\\IMG_D_A5_196871.jpg\n",
      "✅ 저장 완료: C:\\Users\\rhomb\\OneDrive\\바탕 화면\\A5_미란_궤양_min_max_normalization\\IMG_D_A5_196956.jpg\n",
      "✅ 저장 완료: C:\\Users\\rhomb\\OneDrive\\바탕 화면\\A5_미란_궤양_min_max_normalization\\IMG_D_A5_196958.jpg\n",
      "✅ 저장 완료: C:\\Users\\rhomb\\OneDrive\\바탕 화면\\A5_미란_궤양_min_max_normalization\\IMG_D_A5_197019.jpg\n",
      "✅ 저장 완료: C:\\Users\\rhomb\\OneDrive\\바탕 화면\\A5_미란_궤양_min_max_normalization\\IMG_D_A5_197034.jpg\n",
      "✅ 저장 완료: C:\\Users\\rhomb\\OneDrive\\바탕 화면\\A5_미란_궤양_min_max_normalization\\IMG_D_A5_197099.jpg\n",
      "✅ 저장 완료: C:\\Users\\rhomb\\OneDrive\\바탕 화면\\A5_미란_궤양_min_max_normalization\\IMG_D_A5_197161.jpg\n",
      "✅ 저장 완료: C:\\Users\\rhomb\\OneDrive\\바탕 화면\\A5_미란_궤양_min_max_normalization\\IMG_D_A5_197163.jpg\n",
      "✅ 저장 완료: C:\\Users\\rhomb\\OneDrive\\바탕 화면\\A5_미란_궤양_min_max_normalization\\IMG_D_A5_197348.jpg\n",
      "✅ 저장 완료: C:\\Users\\rhomb\\OneDrive\\바탕 화면\\A5_미란_궤양_min_max_normalization\\IMG_D_A5_197401.jpg\n",
      "✅ 저장 완료: C:\\Users\\rhomb\\OneDrive\\바탕 화면\\A5_미란_궤양_min_max_normalization\\IMG_D_A5_197403.jpg\n",
      "✅ 저장 완료: C:\\Users\\rhomb\\OneDrive\\바탕 화면\\A5_미란_궤양_min_max_normalization\\IMG_D_A5_197404.jpg\n",
      "✅ 저장 완료: C:\\Users\\rhomb\\OneDrive\\바탕 화면\\A5_미란_궤양_min_max_normalization\\IMG_D_A5_197414.jpg\n",
      "✅ 저장 완료: C:\\Users\\rhomb\\OneDrive\\바탕 화면\\A5_미란_궤양_min_max_normalization\\IMG_D_A5_197467.jpg\n",
      "✅ 저장 완료: C:\\Users\\rhomb\\OneDrive\\바탕 화면\\A5_미란_궤양_min_max_normalization\\IMG_D_A5_197468.jpg\n",
      "✅ 저장 완료: C:\\Users\\rhomb\\OneDrive\\바탕 화면\\A5_미란_궤양_min_max_normalization\\IMG_D_A5_197469.jpg\n",
      "✅ 저장 완료: C:\\Users\\rhomb\\OneDrive\\바탕 화면\\A5_미란_궤양_min_max_normalization\\IMG_D_A5_197470.jpg\n",
      "✅ 저장 완료: C:\\Users\\rhomb\\OneDrive\\바탕 화면\\A5_미란_궤양_min_max_normalization\\IMG_D_A5_197484.jpg\n",
      "✅ 저장 완료: C:\\Users\\rhomb\\OneDrive\\바탕 화면\\A5_미란_궤양_min_max_normalization\\IMG_D_A5_197512.jpg\n",
      "✅ 저장 완료: C:\\Users\\rhomb\\OneDrive\\바탕 화면\\A5_미란_궤양_min_max_normalization\\IMG_D_A5_197539.jpg\n",
      "✅ 저장 완료: C:\\Users\\rhomb\\OneDrive\\바탕 화면\\A5_미란_궤양_min_max_normalization\\IMG_D_A5_197547.jpg\n",
      "✅ 저장 완료: C:\\Users\\rhomb\\OneDrive\\바탕 화면\\A5_미란_궤양_min_max_normalization\\IMG_D_A5_197565.jpg\n",
      "✅ 저장 완료: C:\\Users\\rhomb\\OneDrive\\바탕 화면\\A5_미란_궤양_min_max_normalization\\IMG_D_A5_197570.jpg\n",
      "✅ 저장 완료: C:\\Users\\rhomb\\OneDrive\\바탕 화면\\A5_미란_궤양_min_max_normalization\\IMG_D_A5_197629.jpg\n",
      "✅ 저장 완료: C:\\Users\\rhomb\\OneDrive\\바탕 화면\\A5_미란_궤양_min_max_normalization\\IMG_D_A5_197630.jpg\n",
      "✅ 저장 완료: C:\\Users\\rhomb\\OneDrive\\바탕 화면\\A5_미란_궤양_min_max_normalization\\IMG_D_A5_197646.jpg\n",
      "✅ 저장 완료: C:\\Users\\rhomb\\OneDrive\\바탕 화면\\A5_미란_궤양_min_max_normalization\\IMG_D_A5_197648.jpg\n",
      "✅ 저장 완료: C:\\Users\\rhomb\\OneDrive\\바탕 화면\\A5_미란_궤양_min_max_normalization\\IMG_D_A5_197651.jpg\n",
      "✅ 저장 완료: C:\\Users\\rhomb\\OneDrive\\바탕 화면\\A5_미란_궤양_min_max_normalization\\IMG_D_A5_197701.jpg\n",
      "✅ 저장 완료: C:\\Users\\rhomb\\OneDrive\\바탕 화면\\A5_미란_궤양_min_max_normalization\\IMG_D_A5_197705.jpg\n",
      "✅ 저장 완료: C:\\Users\\rhomb\\OneDrive\\바탕 화면\\A5_미란_궤양_min_max_normalization\\IMG_D_A5_197710.jpg\n",
      "✅ 저장 완료: C:\\Users\\rhomb\\OneDrive\\바탕 화면\\A5_미란_궤양_min_max_normalization\\IMG_D_A5_197724.jpg\n",
      "✅ 저장 완료: C:\\Users\\rhomb\\OneDrive\\바탕 화면\\A5_미란_궤양_min_max_normalization\\IMG_D_A5_197727.jpg\n",
      "✅ 저장 완료: C:\\Users\\rhomb\\OneDrive\\바탕 화면\\A5_미란_궤양_min_max_normalization\\IMG_D_A5_197804.jpg\n",
      "✅ 저장 완료: C:\\Users\\rhomb\\OneDrive\\바탕 화면\\A5_미란_궤양_min_max_normalization\\IMG_D_A5_197807.jpg\n",
      "✅ 저장 완료: C:\\Users\\rhomb\\OneDrive\\바탕 화면\\A5_미란_궤양_min_max_normalization\\IMG_D_A5_197934.jpg\n",
      "✅ 저장 완료: C:\\Users\\rhomb\\OneDrive\\바탕 화면\\A5_미란_궤양_min_max_normalization\\IMG_D_A5_197938.jpg\n",
      "✅ 저장 완료: C:\\Users\\rhomb\\OneDrive\\바탕 화면\\A5_미란_궤양_min_max_normalization\\IMG_D_A5_197940.jpg\n",
      "✅ 저장 완료: C:\\Users\\rhomb\\OneDrive\\바탕 화면\\A5_미란_궤양_min_max_normalization\\IMG_D_A5_198010.jpg\n",
      "✅ 저장 완료: C:\\Users\\rhomb\\OneDrive\\바탕 화면\\A5_미란_궤양_min_max_normalization\\IMG_D_A5_198011.jpg\n",
      "✅ 저장 완료: C:\\Users\\rhomb\\OneDrive\\바탕 화면\\A5_미란_궤양_min_max_normalization\\IMG_D_A5_198013.jpg\n",
      "✅ 저장 완료: C:\\Users\\rhomb\\OneDrive\\바탕 화면\\A5_미란_궤양_min_max_normalization\\IMG_D_A5_198109.jpg\n",
      "✅ 저장 완료: C:\\Users\\rhomb\\OneDrive\\바탕 화면\\A5_미란_궤양_min_max_normalization\\IMG_D_A5_198149.jpg\n",
      "✅ 저장 완료: C:\\Users\\rhomb\\OneDrive\\바탕 화면\\A5_미란_궤양_min_max_normalization\\IMG_D_A5_198150.jpg\n",
      "✅ 저장 완료: C:\\Users\\rhomb\\OneDrive\\바탕 화면\\A5_미란_궤양_min_max_normalization\\IMG_D_A5_198165.jpg\n",
      "✅ 저장 완료: C:\\Users\\rhomb\\OneDrive\\바탕 화면\\A5_미란_궤양_min_max_normalization\\IMG_D_A5_198307.jpg\n",
      "✅ 저장 완료: C:\\Users\\rhomb\\OneDrive\\바탕 화면\\A5_미란_궤양_min_max_normalization\\IMG_D_A5_198320.jpg\n",
      "✅ 저장 완료: C:\\Users\\rhomb\\OneDrive\\바탕 화면\\A5_미란_궤양_min_max_normalization\\IMG_D_A5_198374.jpg\n",
      "✅ 저장 완료: C:\\Users\\rhomb\\OneDrive\\바탕 화면\\A5_미란_궤양_min_max_normalization\\IMG_D_A5_198377.jpg\n",
      "✅ 저장 완료: C:\\Users\\rhomb\\OneDrive\\바탕 화면\\A5_미란_궤양_min_max_normalization\\IMG_D_A5_198378.jpg\n",
      "✅ 저장 완료: C:\\Users\\rhomb\\OneDrive\\바탕 화면\\A5_미란_궤양_min_max_normalization\\IMG_D_A5_198380.jpg\n",
      "✅ 저장 완료: C:\\Users\\rhomb\\OneDrive\\바탕 화면\\A5_미란_궤양_min_max_normalization\\IMG_D_A5_198476.jpg\n",
      "✅ 저장 완료: C:\\Users\\rhomb\\OneDrive\\바탕 화면\\A5_미란_궤양_min_max_normalization\\IMG_D_A5_198604.jpg\n",
      "✅ 저장 완료: C:\\Users\\rhomb\\OneDrive\\바탕 화면\\A5_미란_궤양_min_max_normalization\\IMG_D_A5_198605.jpg\n",
      "✅ 저장 완료: C:\\Users\\rhomb\\OneDrive\\바탕 화면\\A5_미란_궤양_min_max_normalization\\IMG_D_A5_198623.jpg\n",
      "✅ 저장 완료: C:\\Users\\rhomb\\OneDrive\\바탕 화면\\A5_미란_궤양_min_max_normalization\\IMG_D_A5_198772.jpg\n",
      "✅ 저장 완료: C:\\Users\\rhomb\\OneDrive\\바탕 화면\\A5_미란_궤양_min_max_normalization\\IMG_D_A5_198788.jpg\n",
      "✅ 저장 완료: C:\\Users\\rhomb\\OneDrive\\바탕 화면\\A5_미란_궤양_min_max_normalization\\IMG_D_A5_198843.jpg\n",
      "✅ 저장 완료: C:\\Users\\rhomb\\OneDrive\\바탕 화면\\A5_미란_궤양_min_max_normalization\\IMG_D_A5_198852.jpg\n",
      "✅ 저장 완료: C:\\Users\\rhomb\\OneDrive\\바탕 화면\\A5_미란_궤양_min_max_normalization\\IMG_D_A5_198856.jpg\n",
      "✅ 저장 완료: C:\\Users\\rhomb\\OneDrive\\바탕 화면\\A5_미란_궤양_min_max_normalization\\IMG_D_A5_198857.jpg\n",
      "✅ 저장 완료: C:\\Users\\rhomb\\OneDrive\\바탕 화면\\A5_미란_궤양_min_max_normalization\\IMG_D_A5_198862.jpg\n",
      "✅ 저장 완료: C:\\Users\\rhomb\\OneDrive\\바탕 화면\\A5_미란_궤양_min_max_normalization\\IMG_D_A5_198940.jpg\n",
      "\n",
      "🎉 모든 이미지 처리가 완료되었습니다.\n"
     ]
    }
   ],
   "source": [
    "# 폴더 내 모든 이미지 파일 처리\n",
    "for filename in os.listdir(input_folder):\n",
    "    if filename.lower().endswith(('.jpg', '.jpeg', '.png')):\n",
    "        image_path = os.path.join(input_folder, filename)\n",
    "        \n",
    "        # 경로 유효성 점검\n",
    "        if not os.path.exists(image_path):\n",
    "            print(f\"파일 없음: {image_path}\")\n",
    "            continue\n",
    "        \n",
    "        try:\n",
    "            pil_image = Image.open(image_path).convert('RGB')\n",
    "            image_np = np.array(pil_image)\n",
    "\n",
    "            # Min-Max 정규화\n",
    "            min_value = np.min(image_np)\n",
    "            max_value = np.max(image_np)\n",
    "            normalized_image = (image_np - min_value) / (max_value - min_value)\n",
    "\n",
    "            # 정규화된 이미지를 PIL로 변환\n",
    "            normalized_image_uint8 = (normalized_image * 255).astype(np.uint8)\n",
    "            normalized_pil = Image.fromarray(normalized_image_uint8)\n",
    "\n",
    "            # 처리된 이미지를 출력 폴더에 저장\n",
    "            output_path = os.path.join(output_folder, filename)\n",
    "            normalized_pil.save(output_path)\n",
    "            print(f\"✅ 저장 완료: {output_path}\")\n",
    "        \n",
    "        except Exception as e:\n",
    "            print(f\"🚨 처리 중 오류 발생 ({filename}): {e}\")\n",
    "\n",
    "print(\"\\n🎉 모든 이미지 처리가 완료되었습니다.\")"
   ]
  }
 ],
 "metadata": {
  "kernelspec": {
   "display_name": "Python 3",
   "language": "python",
   "name": "python3"
  },
  "language_info": {
   "codemirror_mode": {
    "name": "ipython",
    "version": 3
   },
   "file_extension": ".py",
   "mimetype": "text/x-python",
   "name": "python",
   "nbconvert_exporter": "python",
   "pygments_lexer": "ipython3",
   "version": "3.13.1"
  }
 },
 "nbformat": 4,
 "nbformat_minor": 2
}
