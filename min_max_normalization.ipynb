{
 "cells": [
  {
   "cell_type": "markdown",
   "metadata": {},
   "source": [
    "# Min-Max Normalization"
   ]
  },
  {
   "cell_type": "code",
   "execution_count": 2,
   "metadata": {},
   "outputs": [
    {
     "name": "stdout",
     "output_type": "stream",
     "text": [
      "Collecting SimpleITK\n",
      "  Downloading SimpleITK-2.4.1-cp311-abi3-win_amd64.whl.metadata (8.0 kB)\n",
      "Downloading SimpleITK-2.4.1-cp311-abi3-win_amd64.whl (18.7 MB)\n",
      "   ---------------------------------------- 0.0/18.7 MB ? eta -:--:--\n",
      "   ---- ----------------------------------- 2.1/18.7 MB 10.5 MB/s eta 0:00:02\n",
      "   --------- ------------------------------ 4.5/18.7 MB 10.9 MB/s eta 0:00:02\n",
      "   -------------- ------------------------- 6.6/18.7 MB 10.5 MB/s eta 0:00:02\n",
      "   ------------------- -------------------- 8.9/18.7 MB 10.6 MB/s eta 0:00:01\n",
      "   ------------------------ --------------- 11.3/18.7 MB 10.7 MB/s eta 0:00:01\n",
      "   ----------------------------- ---------- 13.6/18.7 MB 10.8 MB/s eta 0:00:01\n",
      "   ---------------------------------- ----- 16.0/18.7 MB 10.9 MB/s eta 0:00:01\n",
      "   ---------------------------------------  18.4/18.7 MB 10.9 MB/s eta 0:00:01\n",
      "   ---------------------------------------- 18.7/18.7 MB 10.2 MB/s eta 0:00:00\n",
      "Installing collected packages: SimpleITK\n",
      "Successfully installed SimpleITK-2.4.1\n",
      "Note: you may need to restart the kernel to use updated packages.\n"
     ]
    },
    {
     "name": "stderr",
     "output_type": "stream",
     "text": [
      "\n",
      "[notice] A new release of pip is available: 24.3.1 -> 25.0.1\n",
      "[notice] To update, run: python.exe -m pip install --upgrade pip\n"
     ]
    }
   ],
   "source": [
    "pip install SimpleITK"
   ]
  },
  {
   "cell_type": "code",
   "execution_count": 14,
   "metadata": {},
   "outputs": [],
   "source": [
    "import os\n",
    "import numpy as np\n",
    "import matplotlib.pyplot as plt\n",
    "from PIL import Image"
   ]
  },
  {
   "cell_type": "code",
   "execution_count": null,
   "metadata": {},
   "outputs": [],
   "source": [
    "# 입력 및 출력 폴더 경로 설정\n",
    "input_folder = [입력폴더]  # 원본 이미지 폴더\n",
    "output_folder = [출력폴더]  # 저장 폴더"
   ]
  },
  {
   "cell_type": "code",
   "execution_count": 16,
   "metadata": {},
   "outputs": [
    {
     "name": "stdout",
     "output_type": "stream",
     "text": [
      "🎉 모든 이미지 처리가 완료되었습니다.\n"
     ]
    }
   ],
   "source": [
    "# 폴더 내 모든 이미지 파일 처리\n",
    "for filename in os.listdir(input_folder):\n",
    "    if filename.lower().endswith(('.jpg', '.jpeg', '.png')):\n",
    "        image_path = os.path.join(input_folder, filename)\n",
    "        \n",
    "        # 경로 유효성 점검\n",
    "        if not os.path.exists(image_path):\n",
    "            print(f\"파일 없음: {image_path}\")\n",
    "            continue\n",
    "        \n",
    "        try:\n",
    "            pil_image = Image.open(image_path).convert('RGB')\n",
    "            image_np = np.array(pil_image)\n",
    "\n",
    "            # Min-Max 정규화\n",
    "            min_value = np.min(image_np)\n",
    "            max_value = np.max(image_np)\n",
    "            normalized_image = (image_np - min_value) / (max_value - min_value)\n",
    "\n",
    "            # 정규화된 이미지를 PIL로 변환\n",
    "            normalized_image_uint8 = (normalized_image * 255).astype(np.uint8)\n",
    "            normalized_pil = Image.fromarray(normalized_image_uint8)\n",
    "\n",
    "            # 처리된 이미지를 출력 폴더에 저장\n",
    "            output_path = os.path.join(output_folder, filename)\n",
    "            normalized_pil.save(output_path)\n",
    "            print(f\"✅ 저장 완료: {output_path}\")\n",
    "        \n",
    "        except Exception as e:\n",
    "            print(f\"🚨 처리 중 오류 발생 ({filename}): {e}\")\n",
    "\n",
    "print(\"\\n🎉 모든 이미지 처리가 완료되었습니다.\")"
   ]
  }
 ],
 "metadata": {
  "kernelspec": {
   "display_name": "Python 3",
   "language": "python",
   "name": "python3"
  },
  "language_info": {
   "codemirror_mode": {
    "name": "ipython",
    "version": 3
   },
   "file_extension": ".py",
   "mimetype": "text/x-python",
   "name": "python",
   "nbconvert_exporter": "python",
   "pygments_lexer": "ipython3",
   "version": "3.13.1"
  }
 },
 "nbformat": 4,
 "nbformat_minor": 2
}
