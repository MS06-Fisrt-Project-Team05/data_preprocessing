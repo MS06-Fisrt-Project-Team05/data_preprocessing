{
 "cells": [
  {
   "cell_type": "code",
   "execution_count": null,
   "metadata": {},
   "outputs": [],
   "source": [
    "import os\n",
    "import cv2\n",
    "import numpy as np\n",
    "from PIL import Image\n",
    "import matplotlib.pyplot as plt"
   ]
  },
  {
   "cell_type": "code",
   "execution_count": null,
   "metadata": {},
   "outputs": [],
   "source": [
    "# 입력 및 출력 폴더 경로 설정\n",
    "input_folder = [입력폴더]\n",
    "output_folder = [출력폴더]\n",
    "\n",
    "# 출력 폴더 생성\n",
    "os.makedirs(output_folder, exist_ok=True)\n",
    "print(f\"📂 Output folder created at: {output_folder}\")"
   ]
  },
  {
   "cell_type": "code",
   "execution_count": null,
   "metadata": {},
   "outputs": [],
   "source": [
    "# CLAHE 객체 생성\n",
    "clahe = cv2.createCLAHE(clipLimit=3.0, tileGridSize=(12, 12))\n",
    "\n",
    "# 입력 폴더의 모든 이미지 처리\n",
    "for filename in os.listdir(input_folder):\n",
    "    if filename.lower().endswith(('.png', '.jpg', '.jpeg', '.bmp', '.tiff', '.webp')):\n",
    "        image_path = os.path.join(input_folder, filename)\n",
    "\n",
    "        try:\n",
    "            print(f\"📂 Processing: {image_path}\")\n",
    "\n",
    "            # Pillow를 사용해 이미지 불러오기 (한글 경로 대응)\n",
    "            pil_image = Image.open(image_path).convert('L')  # Grayscale 변환\n",
    "            img = np.array(pil_image)\n",
    "\n",
    "            # CLAHE 적용\n",
    "            img_clahe = clahe.apply(img)\n",
    "\n",
    "            # 결과 저장 (Pillow 사용)\n",
    "            output_path = os.path.join(output_folder, filename)\n",
    "            Image.fromarray(img_clahe).save(output_path, format='PNG')\n",
    "            print(f\"✅ CLAHE image saved at: {output_path}\")\n",
    "\n",
    "            # 시각화\n",
    "            plt.figure(figsize=(12, 6))\n",
    "            plt.subplot(1, 2, 1)\n",
    "            plt.imshow(img, cmap='gray')\n",
    "            plt.title('Original Image')\n",
    "            plt.axis('off')\n",
    "\n",
    "            plt.subplot(1, 2, 2)\n",
    "            plt.imshow(img_clahe, cmap='gray')\n",
    "            plt.title('CLAHE Image')\n",
    "            plt.axis('off')\n",
    "\n",
    "            plt.suptitle(f'Comparison: {filename}', fontsize=16)\n",
    "            plt.show()\n",
    "\n",
    "        except Exception as e:\n",
    "            print(f\"❌ Error processing {filename}: {e}\")\n",
    "\n",
    "print(\"🎉 모든 이미지가 CLAHE 처리 및 저장되었습니다.\")"
   ]
  }
 ],
 "metadata": {
  "kernelspec": {
   "display_name": "Python 3",
   "language": "python",
   "name": "python3"
  },
  "language_info": {
   "codemirror_mode": {
    "name": "ipython",
    "version": 3
   },
   "file_extension": ".py",
   "mimetype": "text/x-python",
   "name": "python",
   "nbconvert_exporter": "python",
   "pygments_lexer": "ipython3",
   "version": "3.13.1"
  }
 },
 "nbformat": 4,
 "nbformat_minor": 2
}
